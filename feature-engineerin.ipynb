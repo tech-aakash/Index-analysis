{
 "cells": [
  {
   "cell_type": "markdown",
   "metadata": {},
   "source": [
    "Adding technical indicators to the data"
   ]
  },
  {
   "cell_type": "code",
   "execution_count": 2,
   "metadata": {},
   "outputs": [
    {
     "name": "stdout",
     "output_type": "stream",
     "text": [
      "Technical indicators added and saved back to the same CSV.\n"
     ]
    }
   ],
   "source": [
    "import pandas as pd\n",
    "import numpy as np\n",
    "\n",
    "# Load the CSV file\n",
    "file_path = 'nifty50_data.csv'\n",
    "df = pd.read_csv(file_path)\n",
    "\n",
    "# Strip leading and trailing spaces from column names\n",
    "df.columns = df.columns.str.strip()\n",
    "\n",
    "# Convert 'Date' column to datetime format\n",
    "df['Date'] = pd.to_datetime(df['Date'], format='%d-%b-%Y')\n",
    "\n",
    "# Set 'Date' as index\n",
    "df.set_index('Date', inplace=True)\n",
    "\n",
    "# --- 1. Exponential Moving Average (EMA) ---\n",
    "# 20-day and 50-day EMAs\n",
    "df['EMA_20'] = df['Close'].ewm(span=20, adjust=False).mean()\n",
    "df['EMA_50'] = df['Close'].ewm(span=50, adjust=False).mean()\n",
    "\n",
    "# --- 2. Bollinger Bands ---\n",
    "# 20-day SMA and Standard Deviation\n",
    "df['SMA_20'] = df['Close'].rolling(window=20).mean()\n",
    "df['STD_20'] = df['Close'].rolling(window=20).std()\n",
    "# Bollinger Bands\n",
    "df['Upper_Band'] = df['SMA_20'] + (2 * df['STD_20'])\n",
    "df['Lower_Band'] = df['SMA_20'] - (2 * df['STD_20'])\n",
    "\n",
    "# --- 3. Relative Strength Index (RSI) ---\n",
    "window_length = 14\n",
    "delta = df['Close'].diff()\n",
    "gain = (delta.where(delta > 0, 0)).rolling(window=window_length).mean()\n",
    "loss = (-delta.where(delta < 0, 0)).rolling(window=window_length).mean()\n",
    "rs = gain / loss\n",
    "df['RSI'] = 100 - (100 / (1 + rs))\n",
    "\n",
    "# --- 4. On-Balance Volume (OBV) ---\n",
    "df['OBV'] = (np.sign(df['Close'].diff()) * df['Shares Traded']).fillna(0).cumsum()\n",
    "\n",
    "# --- 5. Volume Weighted Average Price (VWAP) ---\n",
    "df['VWAP'] = (df['Turnover (₹ Cr)'] * 1e7) / df['Shares Traded']\n",
    "\n",
    "# Save the updated DataFrame to the same CSV file\n",
    "df.reset_index(inplace=True)\n",
    "df.to_csv(file_path, index=False)\n",
    "\n",
    "print(\"Technical indicators added and saved back to the same CSV.\")"
   ]
  }
 ],
 "metadata": {
  "kernelspec": {
   "display_name": "index-analysis",
   "language": "python",
   "name": "python3"
  },
  "language_info": {
   "codemirror_mode": {
    "name": "ipython",
    "version": 3
   },
   "file_extension": ".py",
   "mimetype": "text/x-python",
   "name": "python",
   "nbconvert_exporter": "python",
   "pygments_lexer": "ipython3",
   "version": "3.9.21"
  }
 },
 "nbformat": 4,
 "nbformat_minor": 2
}
