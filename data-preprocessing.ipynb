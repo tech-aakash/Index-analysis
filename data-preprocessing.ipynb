{
 "cells": [
  {
   "cell_type": "markdown",
   "metadata": {},
   "source": [
    "Merge 12 csv into 1 single csv"
   ]
  },
  {
   "cell_type": "code",
   "execution_count": 1,
   "metadata": {},
   "outputs": [
    {
     "name": "stdout",
     "output_type": "stream",
     "text": [
      "Loaded 2013.csv\n",
      "Loaded 2014.csv\n",
      "Loaded 2015.csv\n",
      "Loaded 2016.csv\n",
      "Loaded 2017.csv\n",
      "Loaded 2018.csv\n",
      "Loaded 2019.csv\n",
      "Loaded 2020.csv\n",
      "Loaded 2021.csv\n",
      "Loaded 2022.csv\n",
      "Loaded 2023.csv\n",
      "Loaded 2024.csv\n",
      "Loaded 2025.csv\n",
      "All CSVs merged into /Users/aakashwalavalkar/Desktop/Index analysis/nifty50_data.csv\n"
     ]
    }
   ],
   "source": [
    "import os\n",
    "import pandas as pd\n",
    "\n",
    "# Define the directory containing the CSV files\n",
    "directory = '/Users/aakashwalavalkar/Desktop/Index analysis'  # Replace with your directory path\n",
    "\n",
    "# List to hold dataframes\n",
    "dfs = []\n",
    "\n",
    "# Loop through each year from 2013 to 2025\n",
    "for year in range(2013, 2026):\n",
    "    file_name = f\"{year}.csv\"\n",
    "    file_path = os.path.join(directory, file_name)\n",
    "    \n",
    "    # Check if file exists\n",
    "    if os.path.exists(file_path):\n",
    "        # Read CSV and append to list\n",
    "        df = pd.read_csv(file_path)\n",
    "        dfs.append(df)\n",
    "        print(f\"Loaded {file_name}\")\n",
    "    else:\n",
    "        print(f\"{file_name} not found!\")\n",
    "\n",
    "# Concatenate all dataframes\n",
    "merged_df = pd.concat(dfs, ignore_index=True)\n",
    "\n",
    "# Save the merged dataframe to a new CSV file\n",
    "output_file = os.path.join(directory, 'nifty50_data.csv')\n",
    "merged_df.to_csv(output_file, index=False)\n",
    "print(f\"All CSVs merged into {output_file}\")"
   ]
  },
  {
   "cell_type": "markdown",
   "metadata": {},
   "source": [
    "Convert date column to datetime format"
   ]
  },
  {
   "cell_type": "code",
   "execution_count": 6,
   "metadata": {},
   "outputs": [
    {
     "name": "stdout",
     "output_type": "stream",
     "text": [
      "Column Names: Index(['Date', 'Open', 'High', 'Low', 'Close', 'Shares Traded',\n",
      "       'Turnover (₹ Cr)'],\n",
      "      dtype='object')\n",
      "<class 'pandas.core.frame.DataFrame'>\n",
      "RangeIndex: 3011 entries, 0 to 3010\n",
      "Data columns (total 7 columns):\n",
      " #   Column           Non-Null Count  Dtype         \n",
      "---  ------           --------------  -----         \n",
      " 0   Date             3011 non-null   datetime64[ns]\n",
      " 1   Open             3011 non-null   float64       \n",
      " 2   High             3011 non-null   float64       \n",
      " 3   Low              3011 non-null   float64       \n",
      " 4   Close            3011 non-null   float64       \n",
      " 5   Shares Traded    3007 non-null   float64       \n",
      " 6   Turnover (₹ Cr)  3007 non-null   float64       \n",
      "dtypes: datetime64[ns](1), float64(6)\n",
      "memory usage: 164.8 KB\n",
      "None\n",
      "Date column updated and saved back to the same CSV.\n"
     ]
    }
   ],
   "source": [
    "# Load the merged CSV file\n",
    "df = pd.read_csv('nifty50_data.csv')\n",
    "\n",
    "# Strip leading and trailing spaces from column names\n",
    "df.columns = df.columns.str.strip()\n",
    "\n",
    "# Check the column names to confirm\n",
    "print(\"Column Names:\", df.columns)\n",
    "\n",
    "# Convert the 'Date' column to datetime format\n",
    "df['Date'] = pd.to_datetime(df['Date'], format='%d-%b-%Y')\n",
    "\n",
    "# Confirm the change\n",
    "print(df.info())\n",
    "\n",
    "# Save back to the same CSV file, replacing the old one\n",
    "df.to_csv(file_path, index=False)\n",
    "\n",
    "print(\"Date column updated and saved back to the same CSV.\")"
   ]
  },
  {
   "cell_type": "markdown",
   "metadata": {},
   "source": [
    "remove missing values"
   ]
  },
  {
   "cell_type": "code",
   "execution_count": 7,
   "metadata": {},
   "outputs": [
    {
     "name": "stdout",
     "output_type": "stream",
     "text": [
      "Rows with missing values removed and saved back to the same CSV.\n"
     ]
    }
   ],
   "source": [
    "# Strip leading and trailing spaces from column names\n",
    "df.columns = df.columns.str.strip()\n",
    "\n",
    "# Convert the 'Date' column to datetime format\n",
    "df['Date'] = pd.to_datetime(df['Date'], format='%d-%b-%Y')\n",
    "\n",
    "# Remove rows with missing values\n",
    "df = df.dropna()\n",
    "\n",
    "# Save back to the same CSV file, replacing the old one\n",
    "df.to_csv(file_path, index=False)\n",
    "\n",
    "print(\"Rows with missing values removed and saved back to the same CSV.\")"
   ]
  },
  {
   "cell_type": "code",
   "execution_count": 8,
   "metadata": {},
   "outputs": [
    {
     "name": "stdout",
     "output_type": "stream",
     "text": [
      "Column Names: Index(['Date', 'Open', 'High', 'Low', 'Close', 'Shares Traded',\n",
      "       'Turnover (₹ Cr)'],\n",
      "      dtype='object')\n",
      "<class 'pandas.core.frame.DataFrame'>\n",
      "Index: 3007 entries, 0 to 3010\n",
      "Data columns (total 7 columns):\n",
      " #   Column           Non-Null Count  Dtype         \n",
      "---  ------           --------------  -----         \n",
      " 0   Date             3007 non-null   datetime64[ns]\n",
      " 1   Open             3007 non-null   float64       \n",
      " 2   High             3007 non-null   float64       \n",
      " 3   Low              3007 non-null   float64       \n",
      " 4   Close            3007 non-null   float64       \n",
      " 5   Shares Traded    3007 non-null   float64       \n",
      " 6   Turnover (₹ Cr)  3007 non-null   float64       \n",
      "dtypes: datetime64[ns](1), float64(6)\n",
      "memory usage: 187.9 KB\n",
      "None\n",
      "Date column updated and saved back to the same CSV.\n"
     ]
    }
   ],
   "source": [
    "# Strip leading and trailing spaces from column names\n",
    "df.columns = df.columns.str.strip()\n",
    "\n",
    "# Check the column names to confirm\n",
    "print(\"Column Names:\", df.columns)\n",
    "\n",
    "# Convert the 'Date' column to datetime format\n",
    "df['Date'] = pd.to_datetime(df['Date'], format='%d-%b-%Y')\n",
    "\n",
    "# Confirm the change\n",
    "print(df.info())\n",
    "\n",
    "# Save back to the same CSV file, replacing the old one\n",
    "df.to_csv(file_path, index=False)\n",
    "\n",
    "print(\"Date column updated and saved back to the same CSV.\")"
   ]
  }
 ],
 "metadata": {
  "kernelspec": {
   "display_name": "index-analysis",
   "language": "python",
   "name": "python3"
  },
  "language_info": {
   "codemirror_mode": {
    "name": "ipython",
    "version": 3
   },
   "file_extension": ".py",
   "mimetype": "text/x-python",
   "name": "python",
   "nbconvert_exporter": "python",
   "pygments_lexer": "ipython3",
   "version": "3.9.21"
  }
 },
 "nbformat": 4,
 "nbformat_minor": 2
}
